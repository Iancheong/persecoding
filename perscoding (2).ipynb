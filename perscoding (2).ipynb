{
  "nbformat": 4,
  "nbformat_minor": 0,
  "metadata": {
    "colab": {
      "provenance": []
    },
    "kernelspec": {
      "name": "python3",
      "display_name": "Python 3"
    },
    "language_info": {
      "name": "python"
    }
  },
  "cells": [
    {
      "cell_type": "code",
      "execution_count": null,
      "metadata": {
        "colab": {
          "base_uri": "https://localhost:8080/"
        },
        "id": "OYFBwxcKoGny",
        "outputId": "732e908c-ae3a-4027-9e23-0e3675d4ba2d"
      },
      "outputs": [
        {
          "output_type": "stream",
          "name": "stdout",
          "text": [
            "3\n",
            "1\n",
            "2\n",
            "47\n"
          ]
        }
      ],
      "source": [
        "# Question 1\n",
        "a = input(\"\")\n",
        "b = input(\"\")\n",
        "c = input(\"\")\n",
        "\n",
        "total = int(a)*5 + int(b)*8 + int(c)*12\n",
        "print(total)"
      ]
    },
    {
      "cell_type": "code",
      "source": [
        "# question 2\n",
        "word=input(\"\")\n",
        "\n",
        "for i in word:\n",
        "  if i==\"a\" or i==\"e\" or i==\"i\" or i==\"o\" or i==\"u\":\n",
        "    print(i)  \n",
        "\n",
        "\n"
      ],
      "metadata": {
        "colab": {
          "base_uri": "https://localhost:8080/"
        },
        "id": "TVneqSacrI_4",
        "outputId": "0d3262b3-8cf7-4b5b-b60f-df81b9969d0e"
      },
      "execution_count": null,
      "outputs": [
        {
          "output_type": "stream",
          "name": "stdout",
          "text": [
            "moose\n",
            "o\n",
            "o\n",
            "e\n"
          ]
        }
      ]
    },
    {
      "cell_type": "code",
      "source": [
        "# question 3\n",
        "a=input(\"\")\n",
        "b=input(\"\")\n",
        "c=input(\"\")\n",
        "d=input(\"\")\n",
        "\n",
        "fruits=a+\", \"+b+\", \"+c+\", \"+d\n",
        "print(fruits)\n"
      ],
      "metadata": {
        "colab": {
          "base_uri": "https://localhost:8080/"
        },
        "id": "HNIRyW_ywnqv",
        "outputId": "d03a837a-8ccd-41cc-ea24-09f8fe2c6b81"
      },
      "execution_count": null,
      "outputs": [
        {
          "output_type": "stream",
          "name": "stdout",
          "text": [
            "peas\n",
            "carrots\n",
            "squash\n",
            "bread\n",
            "peas, carrots, squash, bread\n"
          ]
        }
      ]
    },
    {
      "cell_type": "code",
      "source": [
        "# question 4\n",
        "x=int(input(\"\"))\n",
        "y=int(input(\"\"))\n",
        "z=int(input(\"\"))\n",
        "\n",
        "jen=x*z\n",
        "sid=(y*z)/2\n",
        "if jen>sid:\n",
        "  print(\"jen\")\n",
        "  print(jen-sid) \n",
        "else:\n",
        "  print(\"sid\")\n"
      ],
      "metadata": {
        "id": "UQdAfzqo0BcV",
        "colab": {
          "base_uri": "https://localhost:8080/"
        },
        "outputId": "411519ca-d96a-4165-cece-4eb7a59c0a16"
      },
      "execution_count": 7,
      "outputs": [
        {
          "output_type": "stream",
          "name": "stdout",
          "text": [
            "3\n",
            "5\n",
            "7\n",
            "jen\n",
            "3.5\n"
          ]
        }
      ]
    },
    {
      "cell_type": "code",
      "source": [
        "# question 5\n",
        "\n",
        "# input\n",
        "poem=[\"wibble\", \"wobble\", \"wibble\", \"wobble\", \"jelly\", \"on\", \"the\", \"plate\"]\n",
        "word=input(\"\")\n",
        "number=int(input(\"\"))\n",
        "\n",
        "# output\n",
        "for i in poem:\n",
        "  if i==word:\n",
        "    print(poem.index(i))\n",
        "    wordindex=poem.index(i)\n",
        "    for j in range(number):\n",
        "      print(poem[j])\n",
        "  else:\n",
        "    pass\n",
        "\n",
        "\n"
      ],
      "metadata": {
        "colab": {
          "base_uri": "https://localhost:8080/"
        },
        "id": "wn1XATA31kJ8",
        "outputId": "bcab87c2-74f2-4dd9-fbbb-c44f49cd8753"
      },
      "execution_count": 17,
      "outputs": [
        {
          "output_type": "stream",
          "name": "stdout",
          "text": [
            "jelly\n",
            "2\n",
            "4\n",
            "wibble\n",
            "wobble\n"
          ]
        }
      ]
    }
  ]
}